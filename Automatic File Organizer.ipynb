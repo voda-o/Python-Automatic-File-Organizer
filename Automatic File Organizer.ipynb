{
 "cells": [
  {
   "cell_type": "markdown",
   "id": "b88ceda5-eb15-481f-bd4f-a3f66874957f",
   "metadata": {},
   "source": [
    "<h1 style=\"color: blue\">Automatic File Organizer</h1>"
   ]
  },
  {
   "cell_type": "code",
   "execution_count": 2,
   "id": "012c8801-e592-486f-bad4-95e7f47621ef",
   "metadata": {},
   "outputs": [],
   "source": [
    "import os, shutil"
   ]
  },
  {
   "cell_type": "code",
   "execution_count": 4,
   "id": "3fb16d56-0042-4f9e-8e97-1fc02b80e81c",
   "metadata": {},
   "outputs": [],
   "source": [
    "# Specify the directory where files are currently stored\n",
    "path = r\"C:/Users/usero/Desktop/Python File Organizer/\"\n",
    "\n",
    "# Retrieve all items in the specified directory \n",
    "files = os.listdir(path)\n",
    "\n",
    "for file in files:\n",
    "    file_path = os.path.join(path, file) \n",
    "    if os.path.isfile(file_path):\n",
    "        # Get the file extension\n",
    "        file_ext = os.path.splitext(file)[1][1:].lower()\n",
    "        \n",
    "        if file_ext:\n",
    "            # Create the folder path based on the file extension\n",
    "            folder_path = os.path.join(path, file_ext.upper() + \" Files\")\n",
    "            \n",
    "            # Create the folder if it doesn't exist\n",
    "            if not os.path.exists(folder_path):\n",
    "                os.makedirs(folder_path)\n",
    "\n",
    "            # Destination path for the file\n",
    "            dest_path = os.path.join(folder_path, file)\n",
    "\n",
    "            # Move the file only if it doesn't already exist in the destination\n",
    "            # Skip Files with duplicate names\n",
    "            if not os.path.exists(dest_path):\n",
    "                shutil.move(file_path, dest_path)\n"
   ]
  }
 ],
 "metadata": {
  "kernelspec": {
   "display_name": "Python 3 (ipykernel)",
   "language": "python",
   "name": "python3"
  },
  "language_info": {
   "codemirror_mode": {
    "name": "ipython",
    "version": 3
   },
   "file_extension": ".py",
   "mimetype": "text/x-python",
   "name": "python",
   "nbconvert_exporter": "python",
   "pygments_lexer": "ipython3",
   "version": "3.13.5"
  }
 },
 "nbformat": 4,
 "nbformat_minor": 5
}
